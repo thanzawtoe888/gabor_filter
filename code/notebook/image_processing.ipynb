{
 "cells": [
  {
   "cell_type": "code",
   "execution_count": null,
   "metadata": {
    "vscode": {
     "languageId": "plaintext"
    }
   },
   "outputs": [],
   "source": [
    "import cv2\n",
    "import numpy as np\n",
    "import matplotlib.pyplot as plt\n",
    "\n",
    "def load_image(image_path):\n",
    "    \"\"\"Load an image from the specified path and convert to grayscale.\"\"\"\n",
    "    image = cv2.imread(image_path)\n",
    "    gray = cv2.cvtColor(image, cv2.COLOR_BGR2GRAY)\n",
    "    return gray\n",
    "\n",
    "def preprocess_image(gray):\n",
    "    \"\"\"Apply Gaussian blur and enhance contrast.\"\"\"\n",
    "    blurred = cv2.GaussianBlur(gray, (5, 5), 0)\n",
    "    equalized = cv2.equalizeHist(blurred)\n",
    "    return equalized\n",
    "\n",
    "def detect_edges(image):\n",
    "    \"\"\"Apply Canny edge detection.\"\"\"\n",
    "    edges = cv2.Canny(image, 50, 150)\n",
    "    return edges\n",
    "\n",
    "def morphological_processing(edges):\n",
    "    \"\"\"Apply morphological operations to refine edges.\"\"\"\n",
    "    kernel = np.ones((3, 3), np.uint8)\n",
    "    dilated = cv2.dilate(edges, kernel, iterations=1)\n",
    "    eroded = cv2.erode(dilated, kernel, iterations=1)\n",
    "    return eroded\n",
    "\n",
    "def measure_crack_width(binary_image, pixel_to_mm_ratio=0.1):\n",
    "    \"\"\"Estimate crack width in mm assuming a given pixel-to-mm ratio.\"\"\"\n",
    "    contours, _ = cv2.findContours(binary_image, cv2.RETR_EXTERNAL, cv2.CHAIN_APPROX_SIMPLE)\n",
    "    widths = []\n",
    "    \n",
    "    for contour in contours:\n",
    "        x, y, w, h = cv2.boundingRect(contour)\n",
    "        widths.append(w * pixel_to_mm_ratio)\n",
    "    \n",
    "    if widths:\n",
    "        max_width = max(widths)\n",
    "    else:\n",
    "        max_width = 0\n",
    "    \n",
    "    return max_width\n",
    "\n",
    "# Example workflow\n",
    "def main(image_path):\n",
    "    gray = load_image(image_path)\n",
    "    processed = preprocess_image(gray)\n",
    "    edges = detect_edges(processed)\n",
    "    refined_edges = morphological_processing(edges)\n",
    "    crack_width = measure_crack_width(refined_edges)\n",
    "    \n",
    "    # Display results\n",
    "    plt.figure(figsize=(12, 4))\n",
    "    plt.subplot(1, 3, 1), plt.imshow(gray, cmap='gray'), plt.title('Grayscale')\n",
    "    plt.subplot(1, 3, 2), plt.imshow(edges, cmap='gray'), plt.title('Edges')\n",
    "    plt.subplot(1, 3, 3), plt.imshow(refined_edges, cmap='gray'), plt.title('Refined Edges')\n",
    "    plt.show()\n",
    "    \n",
    "    print(f\"Estimated crack width: {crack_width:.2f} mm\")\n",
    "    \n",
    "# Example usage:\n",
    "# main('path_to_concrete_image.jpg')\n"
   ]
  }
 ],
 "metadata": {
  "language_info": {
   "name": "python"
  }
 },
 "nbformat": 4,
 "nbformat_minor": 2
}
